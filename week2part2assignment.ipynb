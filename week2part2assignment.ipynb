{
 "cells": [
  {
   "cell_type": "heading",
   "metadata": {
    "collapsed": true
   },
   "level": 1,
   "source": [
    "Week 2 Part 2 - Assignment\n",
    "\n",
    "By Niteen Kumar, Alexander Low, Jagruti Solao, Brian Weinfeld"
   ]
  },
  {
   "cell_type": "markdown",
   "metadata": {},
   "source": [
    "A data set compiled from openflights.org contains a listing of every airport in the world along with a variety of attributes. Directed edges connect the airports that have flights connecting each other. There first of two files contains all the information on the airports while a second file contains infoormation on each edge. A small sample of the data is provided below."
   ]
  },
  {
   "cell_type": "code",
   "execution_count": 5,
   "metadata": {},
   "outputs": [
    {
     "name": "stdout",
     "output_type": "stream",
     "text": [
      "['Airport ID', 'Name', 'City', 'Country', 'IATA/FAA', 'ICAO', 'Latitude', 'Longitude', 'Altitude', 'Timezone', 'DST']\n['1', 'Goroka', 'Goroka', 'Papua New Guinea', 'GKA', 'AYGA', '-6.081689', '145.391881', '5282', '10', 'U']\n['2', 'Madang', 'Madang', 'Papua New Guinea', 'MAG', 'AYMD', '-5.207083', '145.7887', '20', '10', 'U']\n['3', 'Mount Hagen', 'Mount Hagen', 'Papua New Guinea', 'HGU', 'AYMH', '-5.826789', '144.295861', '5388', '10', 'U']\n['4', 'Nadzab', 'Nadzab', 'Papua New Guinea', 'LAE', 'AYNZ', '-6.569828', '146.726242', '239', '10', 'U']\n['5', 'Port Moresby Jacksons Intl', 'Port Moresby', 'Papua New Guinea', 'POM', 'AYPY', '-9.443383', '147.22005', '146', '10', 'U']\n['6', 'Wewak Intl', 'Wewak', 'Papua New Guinea', 'WWK', 'AYWK', '-3.583828', '143.669186', '19', '10', 'U']\n['7', 'Narsarsuaq', 'Narssarssuaq', 'Greenland', 'UAK', 'BGBW', '61.160517', '-45.425978', '112', '-3', 'E']\n['8', 'Nuuk', 'Godthaab', 'Greenland', 'GOH', 'BGGH', '64.190922', '-51.678064', '283', '-3', 'E']\n['9', 'Sondre Stromfjord', 'Sondrestrom', 'Greenland', 'SFJ', 'BGSF', '67.016969', '-50.689325', '165', '-3', 'E']\n['10', 'Thule Air Base', 'Thule', 'Greenland', 'THU', 'BGTL', '76.531203', '-68.703161', '251', '-4', 'E']\n\n['1', '5', '1']\n['2', '4', '1']\n['2', '5', '1']\n['2', '6', '2']\n['2', '5430', '1']\n['3', '2', '1']\n['3', '5', '2']\n['3', '5431', '1']\n['3', '5434', '2']\n['4', '2', '1']\n['4', '5', '2']\n"
     ]
    }
   ],
   "source": [
    "import csv\n",
    "\n",
    "def short_display(file):\n",
    "    with open(file, newline='') as csvfile:\n",
    "        r = csv.reader(csvfile, delimiter=' ')\n",
    "        for i, row in enumerate(r):\n",
    "            print(row)\n",
    "            if i == 10:\n",
    "                break\n",
    "\n",
    "short_display('openflights_airports.txt')\n",
    "print()\n",
    "short_display('openflights.txt')"
   ]
  },
  {
   "cell_type": "markdown",
   "metadata": {},
   "source": []
  },
  {
   "cell_type": "code",
   "execution_count": 13,
   "metadata": {
    "collapsed": false
   },
   "outputs": [
    {
     "name": "stdout",
     "output_type": "stream",
     "text": [
      "['31,Brandon', 'Muni,Canada']\n['32,Cambridge', 'Bay,Canada']\n['33,Nanaimo,Canada']\n['21,Sault', 'Ste', 'Marie,Canada']\n['22,Winnipeg', 'St', 'Andrews,Canada']\n['23,Shearwater,Canada']\n['24,St', 'Anthony,Canada']\n['25,Tofino,Canada']\n['26,Kugaaruk,Canada']\n['27,Baie', 'Comeau,Canada']\n['28,Bagotville,Canada']\n\n['196,32,2']\n['183,32,1']\n['128,32,1']\n['69,32,1']\n['37,32,2']\n['133,21,1']\n['121,21,1']\n['5485,24,2']\n['189,24,1']\n['192,27,1']\n['111,27,1']\n"
     ]
    }
   ],
   "source": [
    "short_display('airports_sub.csv')\n",
    "print()\n",
    "short_display('connections_sub.csv')"
   ]
  },
  {
   "cell_type": "markdown",
   "metadata": {},
   "source": [
    "With the data set created, it is ready for analysis."
   ]
  },
  {
   "cell_type": "heading",
   "metadata": {},
   "level": 2,
   "source": [
    "High Level Plan"
   ]
  },
  {
   "cell_type": "code",
   "execution_count": null,
   "metadata": {},
   "outputs": [],
   "source": []
  }
 ],
 "metadata": {
  "kernelspec": {
   "display_name": "Python 2",
   "language": "python",
   "name": "python2"
  },
  "language_info": {
   "codemirror_mode": {
    "name": "ipython",
    "version": 2
   },
   "file_extension": ".py",
   "mimetype": "text/x-python",
   "name": "python",
   "nbconvert_exporter": "python",
   "pygments_lexer": "ipython2",
   "version": "2.7.6"
  }
 },
 "nbformat": 4,
 "nbformat_minor": 0
}
